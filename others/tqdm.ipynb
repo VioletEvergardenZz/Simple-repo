{
 "cells": [
  {
   "cell_type": "code",
   "execution_count": 1,
   "metadata": {},
   "outputs": [
    {
     "name": "stderr",
     "output_type": "stream",
     "text": [
      "desc参数显示在这里: 100%|██████████| 10000/10000 [00:11<00:00, 867.95it/s]\n",
      "100%|██████████| 12000/12000 [00:13<00:00, 861.09it/s]\n"
     ]
    }
   ],
   "source": [
    "from time import sleep\n",
    "from tqdm import tqdm\n",
    "from tqdm import trange\n",
    "\n",
    "for _ in tqdm(range(10000),desc='desc参数显示在这里'):\n",
    "    sleep(0.001)\n",
    "\n",
    "for _ in trange(12000):\n",
    "    sleep(0.001)\n",
    "\n",
    "\n"
   ]
  },
  {
   "cell_type": "code",
   "execution_count": 2,
   "metadata": {},
   "outputs": [
    {
     "name": "stderr",
     "output_type": "stream",
     "text": [
      "100%|██████████| 10/10 [00:05<00:00,  2.00it/s]\n",
      "100%|██████████| 50/50 [00:25<00:00,  2.00it/s]\n"
     ]
    }
   ],
   "source": [
    "nums = [1,2,3,4,5,6,7,8,9,10]\n",
    "for _ in tqdm(nums):\n",
    "    sleep(0.5)\n",
    "\n",
    "def my_generator():\n",
    "    for i in range(50):\n",
    "        yield i\n",
    "\n",
    "for _ in tqdm(my_generator(),total=50):\n",
    "    sleep(0.5)"
   ]
  },
  {
   "cell_type": "code",
   "execution_count": 3,
   "metadata": {},
   "outputs": [
    {
     "name": "stderr",
     "output_type": "stream",
     "text": [
      "100%|██████████| 100/100 [00:04<00:00, 24.99it/s]\n"
     ]
    }
   ],
   "source": [
    "with tqdm(total=100) as pbar: \n",
    "    pbar.update(10)\n",
    "    sleep(2)\n",
    "    pbar.update(20)\n",
    "    sleep(2)\n",
    "    pbar.update(70)"
   ]
  }
 ],
 "metadata": {
  "kernelspec": {
   "display_name": "Python 3",
   "language": "python",
   "name": "python3"
  },
  "language_info": {
   "codemirror_mode": {
    "name": "ipython",
    "version": 3
   },
   "file_extension": ".py",
   "mimetype": "text/x-python",
   "name": "python",
   "nbconvert_exporter": "python",
   "pygments_lexer": "ipython3",
   "version": "3.12.1"
  }
 },
 "nbformat": 4,
 "nbformat_minor": 2
}
